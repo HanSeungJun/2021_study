{
 "cells": [
  {
   "cell_type": "markdown",
   "metadata": {},
   "source": [
    "# 교통체증지수분석코드_Example"
   ]
  },
  {
   "cell_type": "code",
   "execution_count": 119,
   "metadata": {},
   "outputs": [],
   "source": [
    "import cv2\n",
    "import numpy as np"
   ]
  },
  {
   "cell_type": "code",
   "execution_count": 120,
   "metadata": {},
   "outputs": [],
   "source": [
    "# Boundary Value Defined\n",
    "# Red(Jam), Yellow(Slow), Green(Free)\n",
    "# lower_color ~ upper_color\n",
    "\n",
    "lower_r = np.array([0, 0, 249]).astype('uint8')\n",
    "lower_g = np.array([57, 190, 14]).astype('uint8')\n",
    "lower_y = np.array([0, 198, 255]).astype('uint8')\n",
    "\n",
    "upper_r = np.array([128, 128, 252]).astype('uint8')\n",
    "upper_g = np.array([107, 206, 74]).astype('uint8')\n",
    "upper_y = np.array([128, 227, 255]).astype('uint8')"
   ]
  },
  {
   "cell_type": "code",
   "execution_count": 161,
   "metadata": {},
   "outputs": [],
   "source": [
    "#read image using opencv module\n",
    "input_img = cv2.imread('C:/Users/LG/Downloads/sample.png')\n",
    "\n",
    "# Generate Mask images (특정 조건 추출, 색깔별 경계치내 도로 추출)\n",
    "mask_r = cv2.inRange(input_img, lower_r, upper_r)\n",
    "# Bitwise_and operation betwen input_image and mask generates image for specific color\n",
    "output_r = cv2.bitwise_and(input_img, input_img, mask = mask_r)\n",
    "\n",
    "mask_g = cv2.inRange(input_img, lower_g, upper_g)\n",
    "output_g = cv2.bitwise_and(input_img, input_img, mask = mask_g)\n",
    "\n",
    "mask_y = cv2.inRange(input_img, lower_y, upper_y)\n",
    "output_y = cv2.bitwise_and(input_img, input_img, mask = mask_y)\n",
    "\n",
    "#add all the individual color image into one\n",
    "combine_img = cv2.add(output_r, output_g)\n",
    "output_RGY = cv2.add(combine_img, output_y)"
   ]
  },
  {
   "cell_type": "code",
   "execution_count": 151,
   "metadata": {},
   "outputs": [],
   "source": [
    "#시각화 \n",
    "cv2.imshow('preprocessed_image', output_RGY)\n",
    "cv2.waitKey(0)\n",
    "cv2.destroyAllWindows()"
   ]
  },
  {
   "cell_type": "code",
   "execution_count": 133,
   "metadata": {},
   "outputs": [
    {
     "name": "stdout",
     "output_type": "stream",
     "text": [
      "0.0947\n"
     ]
    }
   ],
   "source": [
    "### Congestion Index calculation \n",
    "red = np.where(mask_r != 0)\n",
    "red = len(red[0])\n",
    "\n",
    "green = np.where(mask_g != 0)\n",
    "green = len(green[0])\n",
    "\n",
    "yellow = np.where(mask_y != 0)\n",
    "yellow = len(yellow[0])\n",
    "\n",
    "total = red + green + yellow \n",
    "CI = np.around(red/total, decimals = 4)\n",
    "print(CI)"
   ]
  },
  {
   "cell_type": "markdown",
   "metadata": {},
   "source": [
    "# 과제 "
   ]
  },
  {
   "cell_type": "code",
   "execution_count": 134,
   "metadata": {},
   "outputs": [],
   "source": [
    "# 공통 코드 (Q1,Q2,Q3에 들어감)\n",
    "\n",
    "import cv2\n",
    "import numpy as np\n",
    "\n",
    "lower_r = np.array([0, 0, 249]).astype('uint8')\n",
    "lower_g = np.array([57, 190, 14]).astype('uint8')\n",
    "lower_y = np.array([0, 198, 255]).astype('uint8')\n",
    "\n",
    "upper_r = np.array([128, 128, 252]).astype('uint8')\n",
    "upper_g = np.array([107, 206, 74]).astype('uint8')\n",
    "upper_y = np.array([128, 227, 255]).astype('uint8')\n",
    "\n",
    "input_img = cv2.imread('C:/Users/LG/Downloads/sample.png')\n",
    "\n",
    "mask_r = cv2.inRange(input_img, lower_r, upper_r)\n",
    "output_r = cv2.bitwise_and(input_img, input_img, mask = mask_r)\n",
    "\n",
    "mask_g = cv2.inRange(input_img, lower_g, upper_g)\n",
    "output_g = cv2.bitwise_and(input_img, input_img, mask = mask_g)\n",
    "\n",
    "mask_y = cv2.inRange(input_img, lower_y, upper_y)\n",
    "output_y = cv2.bitwise_and(input_img, input_img, mask = mask_y)"
   ]
  },
  {
   "cell_type": "markdown",
   "metadata": {},
   "source": [
    "# Q1. \n",
    "'sample.png' 이미지를 체증 정도 기준에 따라 3가지 색으로\n",
    "구분하여 출력하시오. (각각의 이미지를 추출)"
   ]
  },
  {
   "cell_type": "code",
   "execution_count": 135,
   "metadata": {},
   "outputs": [],
   "source": [
    "# 공통 코드는 생략함\n",
    "\n",
    "cv2.imshow('preprocessed_r_image', output_r)\n",
    "cv2.imshow('preprocessed_g_image', output_g)\n",
    "cv2.imshow('preprocessed_y_image', output_y)\n",
    "cv2.waitKey(0)\n",
    "cv2.destroyAllWindows()"
   ]
  },
  {
   "cell_type": "markdown",
   "metadata": {},
   "source": [
    "# Q2. \n",
    "'smample.png'로 부터 '저속(y)'와 '지체(r)' 구간만을 추출하여\n",
    "하나의 이미지로 도시하시오. (합쳐서 보여주세요)"
   ]
  },
  {
   "cell_type": "code",
   "execution_count": 162,
   "metadata": {},
   "outputs": [],
   "source": [
    "# 공통 코드는 생략함\n",
    "\n",
    "combine_img = cv2.add(output_y, output_r)\n",
    "\n",
    "cv2.imshow('preprocessed_Y&R_image', combine_img)\n",
    "cv2.waitKey(0)\n",
    "cv2.destroyAllWindows()"
   ]
  },
  {
   "cell_type": "markdown",
   "metadata": {},
   "source": [
    "# Q3. \n",
    "'sample.png'로부터 사분면을 기준으로 1사분면(우측상당면)의 교통 체증지수를 산출하시오. "
   ]
  },
  {
   "cell_type": "code",
   "execution_count": 163,
   "metadata": {},
   "outputs": [
    {
     "data": {
      "text/plain": [
       "(776, 1280, 3)"
      ]
     },
     "execution_count": 163,
     "metadata": {},
     "output_type": "execute_result"
    }
   ],
   "source": [
    "# 공통 코드는 생략함\n",
    "\n",
    "input_img = cv2.imread('C:/Users/LG/Downloads/sample.png')\n",
    "# y축 , x축 , 3차원\n",
    "input_img.shape"
   ]
  },
  {
   "cell_type": "code",
   "execution_count": 164,
   "metadata": {},
   "outputs": [],
   "source": [
    "# 이미지의 y축 범위 0~430 / x축 범위 640 ~ 1280 설정\n",
    "cropped_img = input_img[0:430,640:1280]\n",
    "\n",
    "#원본과 crop된 이미지 확인\n",
    "cv2.imshow(\"input_img\",input_img)\n",
    "cv2.imshow(\"cropped_img\",cropped_img)\n",
    "cv2.waitKey(0)\n",
    "cv2.destroyAllWindows()"
   ]
  },
  {
   "cell_type": "code",
   "execution_count": 165,
   "metadata": {},
   "outputs": [],
   "source": [
    "#cropped_img에 대하여 mask 작업\n",
    "\n",
    "mask_r = cv2.inRange(cropped_img, lower_r, upper_r)\n",
    "output_r = cv2.bitwise_and(cropped_img, cropped_img, mask = mask_r)\n",
    "\n",
    "mask_g = cv2.inRange(cropped_img, lower_g, upper_g)\n",
    "output_g = cv2.bitwise_and(cropped_img, cropped_img, mask = mask_g)\n",
    "\n",
    "mask_y = cv2.inRange(cropped_img, lower_y, upper_y)\n",
    "output_y = cv2.bitwise_and(cropped_img, cropped_img, mask = mask_y)"
   ]
  },
  {
   "cell_type": "code",
   "execution_count": null,
   "metadata": {},
   "outputs": [],
   "source": [
    "#add all the individual color image into one\n",
    "combine_img = cv2.add(output_r, output_g)\n",
    "output_RGY = cv2.add(combine_img, output_y)\n",
    "\n",
    "#시각화 \n",
    "cv2.imshow('cropped_image', output_RGY)\n",
    "cv2.waitKey(0)\n",
    "cv2.destroyAllWindows()"
   ]
  },
  {
   "cell_type": "code",
   "execution_count": null,
   "metadata": {},
   "outputs": [],
   "source": [
    "### Congestion Index calculation \n",
    "red = np.where(mask_r != 0)\n",
    "red = len(red[0])\n",
    "\n",
    "green = np.where(mask_g != 0)\n",
    "green = len(green[0])\n",
    "\n",
    "yellow = np.where(mask_y != 0)\n",
    "yellow = len(yellow[0])\n",
    "\n",
    "total = red + green + yellow \n",
    "CI = np.around(red/total, decimals = 4)\n",
    "print(CI)"
   ]
  }
 ],
 "metadata": {
  "kernelspec": {
   "display_name": "Python 3",
   "language": "python",
   "name": "python3"
  },
  "language_info": {
   "codemirror_mode": {
    "name": "ipython",
    "version": 3
   },
   "file_extension": ".py",
   "mimetype": "text/x-python",
   "name": "python",
   "nbconvert_exporter": "python",
   "pygments_lexer": "ipython3",
   "version": "3.8.8"
  }
 },
 "nbformat": 4,
 "nbformat_minor": 4
}
