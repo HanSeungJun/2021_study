{
  "nbformat": 4,
  "nbformat_minor": 0,
  "metadata": {
    "colab": {
      "provenance": [],
      "toc_visible": true,
      "authorship_tag": "ABX9TyMgh2vmBaD7OWHRlPHpPOui",
      "include_colab_link": true
    },
    "kernelspec": {
      "name": "python3",
      "display_name": "Python 3"
    },
    "language_info": {
      "name": "python"
    }
  },
  "cells": [
    {
      "cell_type": "markdown",
      "metadata": {
        "id": "view-in-github",
        "colab_type": "text"
      },
      "source": [
        "<a href=\"https://colab.research.google.com/github/HanSeungJun/2021_study/blob/main/22~24_DataScience_EDA.ipynb\" target=\"_parent\"><img src=\"https://colab.research.google.com/assets/colab-badge.svg\" alt=\"Open In Colab\"/></a>"
      ]
    },
    {
      "cell_type": "markdown",
      "source": [
        "# 1. 데이터사이언스 2022~2024 집행내역 데이터 가공 및 취합"
      ],
      "metadata": {
        "id": "4AHkemC4FiDQ"
      }
    },
    {
      "cell_type": "code",
      "execution_count": 2,
      "metadata": {
        "colab": {
          "base_uri": "https://localhost:8080/"
        },
        "id": "BZNhQQNT__-r",
        "outputId": "2cc5e19a-bebe-4ec5-b490-3f1ebecf5dda"
      },
      "outputs": [
        {
          "output_type": "stream",
          "name": "stdout",
          "text": [
            "압축 해제된 파일 목록: ['집행']\n",
            "    No       결의일자       이체일자 카드사용일자         항목                사용용도  집행방법  \\\n",
            "0  NaN        NaT        NaT    NaT        NaN                 NaN   NaN   \n",
            "1  1.0 2022-05-27 2022-05-27    NaT        간접비            간접비(비영리)  계좌이체   \n",
            "2  2.0 2022-06-15 2022-06-15    NaT  (특례)학생인건비               학생인건비  계좌이체   \n",
            "3  3.0 2022-06-21 2022-06-24    NaT        인건비  비영리법인연구부서연구근접지원인력비  계좌이체   \n",
            "4  4.0 2022-06-21 2022-06-24    NaT        인건비  비영리법인연구부서연구근접지원인력비  계좌이체   \n",
            "\n",
            "          공급가액  부가세      연구비사용금액  ...  연구수행기관 자체검토내역 Unnamed: 27 Unnamed: 28  \\\n",
            "0          NaN  NaN          NaN  ...           보완상태        검토결과        인정금액   \n",
            "1  215542810.0  0.0  215542810.0  ...            NaN         NaN           0   \n",
            "2  108800000.0  0.0  108800000.0  ...            NaN         NaN           0   \n",
            "3    2500000.0  0.0    2500000.0  ...            NaN         NaN           0   \n",
            "4     564520.0  0.0     564520.0  ...            NaN         NaN           0   \n",
            "\n",
            "  Unnamed: 29 Unnamed: 30 Unnamed: 31 Unnamed: 32     Unnamed: 33 Unnamed: 34  \\\n",
            "0       불인정금액      불인정 사유   불인정 사유 상세      검토 담당자            보완일자        보완내역   \n",
            "1           0        -선택-         NaN         NaN  ____-__-__ ___         NaN   \n",
            "2           0        -선택-         NaN         NaN  ____-__-__ ___         NaN   \n",
            "3           0        -선택-         NaN         NaN  ____-__-__ ___         NaN   \n",
            "4           0        -선택-         NaN         NaN  ____-__-__ ___         NaN   \n",
            "\n",
            "  Unnamed: 35  \n",
            "0      보완 담당자  \n",
            "1         NaN  \n",
            "2         NaN  \n",
            "3         NaN  \n",
            "4         NaN  \n",
            "\n",
            "[5 rows x 36 columns]\n"
          ]
        }
      ],
      "source": [
        "import zipfile\n",
        "import pandas as pd\n",
        "import os\n",
        "\n",
        "# zip 파일 압축 해제\n",
        "with zipfile.ZipFile('master.zip', 'r') as zip_ref:\n",
        "    zip_ref.extractall('master')\n",
        "\n",
        "# 압축 해제된 파일 목록 확인\n",
        "extracted_files = os.listdir('master')\n",
        "print(\"압축 해제된 파일 목록:\", extracted_files)\n",
        "\n",
        "# 올바른 파일 이름으로 경로 수정\n",
        "excel_file_path = 'master/집행/22년도 데사_고려대.xlsx'  # 파일 경로를 실제 경로에 맞게 수정하세요.\n",
        "\n",
        "# 엑셀 파일 로드\n",
        "try:\n",
        "    df = pd.read_excel(excel_file_path)\n",
        "    # 엑셀 파일의 헤드 부분 출력\n",
        "    print(df.head())\n",
        "except FileNotFoundError as e:\n",
        "    print(f\"파일을 찾을 수 없습니다: {e}\")\n"
      ]
    },
    {
      "cell_type": "code",
      "source": [
        "import pandas as pd\n",
        "\n",
        "# 파일 경로\n",
        "file_path = excel_file_path\n",
        "\n",
        "# 엑셀 파일 읽기\n",
        "xls = pd.ExcelFile(file_path)\n",
        "\n",
        "# 첫 번째 시트 불러오기 (시트명이 여러 개일 수 있으므로 첫 번째 시트 사용)\n",
        "df = xls.parse(xls.sheet_names[0], header=None)\n",
        "\n",
        "# 5번 행(즉, 인덱스 4)을 '항목'으로 사용\n",
        "# 8번 행(즉, 인덱스 7)을 '공급가액'으로 사용\n",
        "df_selected = df.iloc[[4, 7]].T  # 행을 열로 변환\n",
        "\n",
        "df_selected.columns = ['항목', '공급가액']  # 컬럼명 설정\n",
        "\n",
        "# '공급가액'을 숫자로 변환 (문자열이 포함될 가능성 대비)\n",
        "df_selected['공급가액'] = pd.to_numeric(df_selected['공급가액'], errors='coerce')\n",
        "\n",
        "# NaN 값 제거\n",
        "df_selected = df_selected.dropna()\n",
        "\n",
        "# '항목'별 '공급가액' 합산\n",
        "result = df_selected.groupby('항목')['공급가액'].sum().reset_index()\n",
        "\n",
        "# 결과 출력\n",
        "print(result)\n"
      ],
      "metadata": {
        "colab": {
          "base_uri": "https://localhost:8080/"
        },
        "id": "3oCMoGLQATtM",
        "outputId": "19f15f6c-e29d-4f54-f54b-c98ed7117475"
      },
      "execution_count": 4,
      "outputs": [
        {
          "output_type": "stream",
          "name": "stdout",
          "text": [
            "                  항목          공급가액\n",
            "0                  0  0.000000e+00\n",
            "1            2500000  3.756000e+04\n",
            "2  20220000004114550  2.022000e+16\n",
            "3                  3  6.000000e+00\n"
          ]
        }
      ]
    },
    {
      "cell_type": "code",
      "source": [
        "# 데이터 확인용 출력\n",
        "print(df.head(10))  # 상위 10개 행 출력\n"
      ],
      "metadata": {
        "colab": {
          "base_uri": "https://localhost:8080/"
        },
        "id": "QP6RKYihA0Le",
        "outputId": "63469d33-95ec-4afa-dadb-7b119069be94"
      },
      "execution_count": 6,
      "outputs": [
        {
          "output_type": "stream",
          "name": "stdout",
          "text": [
            "    0                    1                    2       3          4   \\\n",
            "0   No                 결의일자                 이체일자  카드사용일자         항목   \n",
            "1  NaN                  NaN                  NaN     NaN        NaN   \n",
            "2    1  2022-05-27 00:00:00  2022-05-27 00:00:00     NaN        간접비   \n",
            "3    2  2022-06-15 00:00:00  2022-06-15 00:00:00     NaN  (특례)학생인건비   \n",
            "4    3  2022-06-21 00:00:00  2022-06-24 00:00:00     NaN        인건비   \n",
            "5    4  2022-06-21 00:00:00  2022-06-24 00:00:00     NaN        인건비   \n",
            "6    5  2022-06-24 00:00:00  2022-06-28 00:00:00     NaN        인건비   \n",
            "7    6  2022-06-24 00:00:00  2022-06-28 00:00:00     NaN        인건비   \n",
            "8    7  2022-06-24 00:00:00  2022-06-28 00:00:00     NaN        인건비   \n",
            "9    8  2022-06-24 00:00:00  2022-06-28 00:00:00     NaN        인건비   \n",
            "\n",
            "                   5     6          7    8          9   ...             26  \\\n",
            "0                사용용도  집행방법       공급가액  부가세    연구비사용금액  ...  연구수행기관 자체검토내역   \n",
            "1                 NaN   NaN        NaN  NaN        NaN  ...           보완상태   \n",
            "2            간접비(비영리)  계좌이체  215542810    0  215542810  ...            NaN   \n",
            "3               학생인건비  계좌이체  108800000    0  108800000  ...            NaN   \n",
            "4  비영리법인연구부서연구근접지원인력비  계좌이체    2500000    0    2500000  ...            NaN   \n",
            "5  비영리법인연구부서연구근접지원인력비  계좌이체     564520    0     564520  ...            NaN   \n",
            "6  비영리법인연구부서연구근접지원인력비  계좌이체     112500    0     112500  ...            NaN   \n",
            "7  비영리법인연구부서연구근접지원인력비  계좌이체      18780    0      18780  ...            NaN   \n",
            "8  비영리법인연구부서연구근접지원인력비  계좌이체     120240    0     120240  ...            NaN   \n",
            "9  비영리법인연구부서연구근접지원인력비  계좌이체      44430    0      44430  ...            NaN   \n",
            "\n",
            "     27    28     29      30         31      32              33    34      35  \n",
            "0   NaN   NaN    NaN     NaN        NaN     NaN             NaN   NaN     NaN  \n",
            "1  검토결과  인정금액  불인정금액  불인정 사유  불인정 사유 상세  검토 담당자            보완일자  보완내역  보완 담당자  \n",
            "2   NaN     0      0    -선택-        NaN     NaN  ____-__-__ ___   NaN     NaN  \n",
            "3   NaN     0      0    -선택-        NaN     NaN  ____-__-__ ___   NaN     NaN  \n",
            "4   NaN     0      0    -선택-        NaN     NaN  ____-__-__ ___   NaN     NaN  \n",
            "5   NaN     0      0    -선택-        NaN     NaN  ____-__-__ ___   NaN     NaN  \n",
            "6   NaN     0      0    -선택-        NaN     NaN  ____-__-__ ___   NaN     NaN  \n",
            "7   NaN     0      0    -선택-        NaN     NaN  ____-__-__ ___   NaN     NaN  \n",
            "8   NaN     0      0    -선택-        NaN     NaN  ____-__-__ ___   NaN     NaN  \n",
            "9   NaN     0      0    -선택-        NaN     NaN  ____-__-__ ___   NaN     NaN  \n",
            "\n",
            "[10 rows x 36 columns]\n"
          ]
        }
      ]
    },
    {
      "cell_type": "markdown",
      "source": [
        "# [결과1] 22년도 데이터 사이언스 집행 (5건)"
      ],
      "metadata": {
        "id": "ZMvRtYaSDiJH"
      }
    },
    {
      "cell_type": "code",
      "source": [
        "import pandas as pd\n",
        "import glob\n",
        "import os\n",
        "\n",
        "# 폴더 경로 및 파일 검색 (\"집행\" 폴더 내 \"22년도\" 포함된 파일 찾기)\n",
        "folder_path = \"master/집행/\"\n",
        "file_pattern = os.path.join(folder_path, \"*22년도*.xlsx\")\n",
        "file_list = glob.glob(file_pattern)\n",
        "\n",
        "# 여러 파일에 대한 결과 저장\n",
        "def process_file(file_path):\n",
        "    # 엑셀 파일 읽기\n",
        "    xls = pd.ExcelFile(file_path)\n",
        "    df = xls.parse(xls.sheet_names[0])  # 첫 번째 시트 사용\n",
        "\n",
        "    # '항목'과 '공급가액' 열 선택\n",
        "    df_selected = df.iloc[:, [4, 7]].copy()\n",
        "    df_selected.columns = ['항목', '공급가액']\n",
        "\n",
        "    # 병합된 셀 문제 해결: NaN을 앞의 값으로 채움\n",
        "    df_selected['항목'] = df_selected['항목'].fillna(method='ffill')\n",
        "\n",
        "    # '공급가액'을 숫자로 변환\n",
        "    df_selected['공급가액'] = pd.to_numeric(df_selected['공급가액'], errors='coerce')\n",
        "\n",
        "    # NaN 값 제거 ('공급가액'이 없는 행만 삭제)\n",
        "    df_selected = df_selected.dropna(subset=['공급가액'])\n",
        "\n",
        "    # '항목'별 '공급가액' 합산\n",
        "    result = df_selected.groupby('항목', as_index=False)['공급가액'].sum()\n",
        "\n",
        "    # 파일명 추가\n",
        "    result.insert(0, '파일명', os.path.basename(file_path))\n",
        "\n",
        "    return result\n",
        "\n",
        "# 모든 파일에 대해 처리 및 출력\n",
        "for file in file_list:\n",
        "    result_df = process_file(file)\n",
        "    print(f\"파일명: {os.path.basename(file)}\")\n",
        "    print(result_df)"
      ],
      "metadata": {
        "colab": {
          "base_uri": "https://localhost:8080/"
        },
        "id": "Jz2Q5YfuDqPD",
        "outputId": "2de84d09-a58a-438f-a4ff-be7019df26f9"
      },
      "execution_count": 13,
      "outputs": [
        {
          "output_type": "stream",
          "name": "stderr",
          "text": [
            "<ipython-input-13-2f0c1d1b78bc>:21: FutureWarning: Series.fillna with 'method' is deprecated and will raise in a future version. Use obj.ffill() or obj.bfill() instead.\n",
            "  df_selected['항목'] = df_selected['항목'].fillna(method='ffill')\n",
            "<ipython-input-13-2f0c1d1b78bc>:21: FutureWarning: Series.fillna with 'method' is deprecated and will raise in a future version. Use obj.ffill() or obj.bfill() instead.\n",
            "  df_selected['항목'] = df_selected['항목'].fillna(method='ffill')\n"
          ]
        },
        {
          "output_type": "stream",
          "name": "stdout",
          "text": [
            "파일명: 22년도 데사_카이스트.xlsx\n",
            "                 파일명            항목         공급가액\n",
            "0  22년도 데사_카이스트.xlsx  (일반)연구시설•장비비  115484000.0\n",
            "1  22년도 데사_카이스트.xlsx     (특례)학생인건비  549900000.0\n",
            "2  22년도 데사_카이스트.xlsx           간접비  195000000.0\n",
            "3  22년도 데사_카이스트.xlsx         연구재료비    7480000.0\n",
            "4  22년도 데사_카이스트.xlsx         연구활동비  132147688.0\n",
            "5  22년도 데사_카이스트.xlsx           인건비   73715479.0\n",
            "파일명: 22년도 데사_서울시립.xlsx\n",
            "                 파일명            항목         공급가액\n",
            "0  22년도 데사_서울시립.xlsx  (일반)연구시설•장비비  100827900.0\n",
            "1  22년도 데사_서울시립.xlsx     (특례)학생인건비  232666000.0\n",
            "2  22년도 데사_서울시립.xlsx           간접비  137408000.0\n",
            "3  22년도 데사_서울시립.xlsx          연구수당   40000000.0\n",
            "4  22년도 데사_서울시립.xlsx         연구활동비   97759964.0\n"
          ]
        },
        {
          "output_type": "stream",
          "name": "stderr",
          "text": [
            "<ipython-input-13-2f0c1d1b78bc>:21: FutureWarning: Series.fillna with 'method' is deprecated and will raise in a future version. Use obj.ffill() or obj.bfill() instead.\n",
            "  df_selected['항목'] = df_selected['항목'].fillna(method='ffill')\n"
          ]
        },
        {
          "output_type": "stream",
          "name": "stdout",
          "text": [
            "파일명: 22년도 데사_충남대.xlsx\n",
            "                파일명            항목         공급가액\n",
            "0  22년도 데사_충남대.xlsx  (일반)연구시설•장비비   90850590.0\n",
            "1  22년도 데사_충남대.xlsx     (특례)학생인건비  111000000.0\n",
            "2  22년도 데사_충남대.xlsx           간접비  114630000.0\n",
            "3  22년도 데사_충남대.xlsx          연구수당   47080000.0\n",
            "4  22년도 데사_충남대.xlsx         연구활동비  213709211.0\n",
            "5  22년도 데사_충남대.xlsx           인건비   36253490.0\n"
          ]
        },
        {
          "output_type": "stream",
          "name": "stderr",
          "text": [
            "<ipython-input-13-2f0c1d1b78bc>:21: FutureWarning: Series.fillna with 'method' is deprecated and will raise in a future version. Use obj.ffill() or obj.bfill() instead.\n",
            "  df_selected['항목'] = df_selected['항목'].fillna(method='ffill')\n"
          ]
        },
        {
          "output_type": "stream",
          "name": "stdout",
          "text": [
            "파일명: 22년도 데사_고려대.xlsx\n",
            "                파일명            항목         공급가액\n",
            "0  22년도 데사_고려대.xlsx  (일반)연구시설•장비비  160419800.0\n",
            "1  22년도 데사_고려대.xlsx     (특례)학생인건비  108800000.0\n",
            "2  22년도 데사_고려대.xlsx           간접비  272839000.0\n",
            "3  22년도 데사_고려대.xlsx          연구수당   46000000.0\n",
            "4  22년도 데사_고려대.xlsx         연구활동비  145017692.0\n",
            "5  22년도 데사_고려대.xlsx           인건비   28784564.0\n",
            "파일명: 22년도 데사_호서대.xlsx\n",
            "                파일명            항목         공급가액\n",
            "0  22년도 데사_호서대.xlsx  (일반)연구시설•장비비  126974000.0\n",
            "1  22년도 데사_호서대.xlsx     (일반)학생인건비   69140000.0\n",
            "2  22년도 데사_호서대.xlsx           간접비  138550000.0\n",
            "3  22년도 데사_호서대.xlsx          연구수당   45868000.0\n",
            "4  22년도 데사_호서대.xlsx         연구활동비  168312964.0\n",
            "5  22년도 데사_호서대.xlsx           인건비   15866820.0\n"
          ]
        },
        {
          "output_type": "stream",
          "name": "stderr",
          "text": [
            "<ipython-input-13-2f0c1d1b78bc>:21: FutureWarning: Series.fillna with 'method' is deprecated and will raise in a future version. Use obj.ffill() or obj.bfill() instead.\n",
            "  df_selected['항목'] = df_selected['항목'].fillna(method='ffill')\n"
          ]
        }
      ]
    },
    {
      "cell_type": "markdown",
      "source": [
        "# [결과2] 23년도 데이터 사이언스 집행 (10건)"
      ],
      "metadata": {
        "id": "ZTnFQZ9NF6Dn"
      }
    },
    {
      "cell_type": "code",
      "source": [
        "import pandas as pd\n",
        "import glob\n",
        "import os\n",
        "\n",
        "# 폴더 경로 및 파일 검색 (\"집행\" 폴더 내 \"22년도\" 포함된 파일 찾기)\n",
        "folder_path = \"master/집행/\"\n",
        "file_pattern = os.path.join(folder_path, \"*23년도*.xlsx\")\n",
        "file_list = glob.glob(file_pattern)\n",
        "\n",
        "# 여러 파일에 대한 결과 저장\n",
        "def process_file(file_path):\n",
        "    # 엑셀 파일 읽기\n",
        "    xls = pd.ExcelFile(file_path)\n",
        "    df = xls.parse(xls.sheet_names[0])  # 첫 번째 시트 사용\n",
        "\n",
        "    # '항목'과 '공급가액' 열 선택\n",
        "    df_selected = df.iloc[:, [4, 7]].copy()\n",
        "    df_selected.columns = ['항목', '공급가액']\n",
        "\n",
        "    # 병합된 셀 문제 해결: NaN을 앞의 값으로 채움\n",
        "    df_selected['항목'] = df_selected['항목'].fillna(method='ffill')\n",
        "\n",
        "    # '공급가액'을 숫자로 변환\n",
        "    df_selected['공급가액'] = pd.to_numeric(df_selected['공급가액'], errors='coerce')\n",
        "\n",
        "    # NaN 값 제거 ('공급가액'이 없는 행만 삭제)\n",
        "    df_selected = df_selected.dropna(subset=['공급가액'])\n",
        "\n",
        "    # '항목'별 '공급가액' 합산\n",
        "    result = df_selected.groupby('항목', as_index=False)['공급가액'].sum()\n",
        "\n",
        "    # 파일명 추가\n",
        "    result.insert(0, '파일명', os.path.basename(file_path))\n",
        "\n",
        "    return result\n",
        "\n",
        "# 모든 파일에 대해 처리 및 출력\n",
        "for file in file_list:\n",
        "    result_df = process_file(file)\n",
        "    print(f\"파일명: {os.path.basename(file)}\")\n",
        "    print(result_df)"
      ],
      "metadata": {
        "colab": {
          "base_uri": "https://localhost:8080/"
        },
        "id": "ydS0pEhFGB54",
        "outputId": "f0ad7e77-be15-43de-f6cc-4e930845c378"
      },
      "execution_count": 14,
      "outputs": [
        {
          "output_type": "stream",
          "name": "stderr",
          "text": [
            "<ipython-input-14-8ad0d7f27e0c>:21: FutureWarning: Series.fillna with 'method' is deprecated and will raise in a future version. Use obj.ffill() or obj.bfill() instead.\n",
            "  df_selected['항목'] = df_selected['항목'].fillna(method='ffill')\n",
            "<ipython-input-14-8ad0d7f27e0c>:21: FutureWarning: Series.fillna with 'method' is deprecated and will raise in a future version. Use obj.ffill() or obj.bfill() instead.\n",
            "  df_selected['항목'] = df_selected['항목'].fillna(method='ffill')\n"
          ]
        },
        {
          "output_type": "stream",
          "name": "stdout",
          "text": [
            "파일명: 23년도 데사_카이스트.xlsx\n",
            "                 파일명            항목         공급가액\n",
            "0  23년도 데사_카이스트.xlsx  (일반)연구시설•장비비  158821560.0\n",
            "1  23년도 데사_카이스트.xlsx     (특례)학생인건비  769860000.0\n",
            "2  23년도 데사_카이스트.xlsx           간접비  274950000.0\n",
            "3  23년도 데사_카이스트.xlsx          연구수당   53040000.0\n",
            "4  23년도 데사_카이스트.xlsx         연구재료비   53497770.0\n",
            "5  23년도 데사_카이스트.xlsx         연구활동비  138474437.0\n",
            "6  23년도 데사_카이스트.xlsx           인건비   99875041.0\n",
            "파일명: 23년도 데사_부산대.xlsx\n",
            "                파일명            항목         공급가액\n",
            "0  23년도 데사_부산대.xlsx  (일반)연구시설•장비비   93562520.0\n",
            "1  23년도 데사_부산대.xlsx           간접비   51136000.0\n",
            "2  23년도 데사_부산대.xlsx          연구수당   20000000.0\n",
            "3  23년도 데사_부산대.xlsx         연구재료비    3999000.0\n",
            "4  23년도 데사_부산대.xlsx         연구활동비  159792546.0\n",
            "5  23년도 데사_부산대.xlsx           인건비   15353150.0\n"
          ]
        },
        {
          "output_type": "stream",
          "name": "stderr",
          "text": [
            "<ipython-input-14-8ad0d7f27e0c>:21: FutureWarning: Series.fillna with 'method' is deprecated and will raise in a future version. Use obj.ffill() or obj.bfill() instead.\n",
            "  df_selected['항목'] = df_selected['항목'].fillna(method='ffill')\n",
            "<ipython-input-14-8ad0d7f27e0c>:21: FutureWarning: Series.fillna with 'method' is deprecated and will raise in a future version. Use obj.ffill() or obj.bfill() instead.\n",
            "  df_selected['항목'] = df_selected['항목'].fillna(method='ffill')\n"
          ]
        },
        {
          "output_type": "stream",
          "name": "stdout",
          "text": [
            "파일명: 23년도 데사_충남대.xlsx\n",
            "                파일명            항목         공급가액\n",
            "0  23년도 데사_충남대.xlsx  (일반)연구시설•장비비   67626010.0\n",
            "1  23년도 데사_충남대.xlsx     (특례)학생인건비  203000000.0\n",
            "2  23년도 데사_충남대.xlsx           간접비  164250000.0\n",
            "3  23년도 데사_충남대.xlsx          연구수당   73220000.0\n",
            "4  23년도 데사_충남대.xlsx         연구활동비  282311942.0\n",
            "5  23년도 데사_충남대.xlsx           인건비   30845620.0\n",
            "파일명: 23년도 데사_경북대.xlsx\n",
            "                파일명            항목         공급가액\n",
            "0  23년도 데사_경북대.xlsx  (일반)연구시설•장비비   37250000.0\n",
            "1  23년도 데사_경북대.xlsx     (특례)학생인건비  210000000.0\n",
            "2  23년도 데사_경북대.xlsx           간접비  116025000.0\n",
            "3  23년도 데사_경북대.xlsx          연구수당   51680000.0\n",
            "4  23년도 데사_경북대.xlsx         연구활동비  338299956.0\n",
            "5  23년도 데사_경북대.xlsx           인건비   88561239.0\n"
          ]
        },
        {
          "output_type": "stream",
          "name": "stderr",
          "text": [
            "<ipython-input-14-8ad0d7f27e0c>:21: FutureWarning: Series.fillna with 'method' is deprecated and will raise in a future version. Use obj.ffill() or obj.bfill() instead.\n",
            "  df_selected['항목'] = df_selected['항목'].fillna(method='ffill')\n"
          ]
        },
        {
          "output_type": "stream",
          "name": "stdout",
          "text": [
            "파일명: 23년도 데사_강원대.xlsx\n",
            "                파일명            항목         공급가액\n",
            "0  23년도 데사_강원대.xlsx  (일반)연구시설•장비비  101296000.0\n",
            "1  23년도 데사_강원대.xlsx     (특례)학생인건비  174500000.0\n",
            "2  23년도 데사_강원대.xlsx           간접비   67284000.0\n",
            "3  23년도 데사_강원대.xlsx          연구수당   50000000.0\n",
            "4  23년도 데사_강원대.xlsx         연구재료비    2200000.0\n",
            "5  23년도 데사_강원대.xlsx         연구활동비  128206958.0\n",
            "6  23년도 데사_강원대.xlsx           인건비   45193370.0\n"
          ]
        },
        {
          "output_type": "stream",
          "name": "stderr",
          "text": [
            "<ipython-input-14-8ad0d7f27e0c>:21: FutureWarning: Series.fillna with 'method' is deprecated and will raise in a future version. Use obj.ffill() or obj.bfill() instead.\n",
            "  df_selected['항목'] = df_selected['항목'].fillna(method='ffill')\n",
            "<ipython-input-14-8ad0d7f27e0c>:21: FutureWarning: Series.fillna with 'method' is deprecated and will raise in a future version. Use obj.ffill() or obj.bfill() instead.\n",
            "  df_selected['항목'] = df_selected['항목'].fillna(method='ffill')\n"
          ]
        },
        {
          "output_type": "stream",
          "name": "stdout",
          "text": [
            "파일명: 23년도 데사_고려대.xlsx\n",
            "                파일명            항목         공급가액\n",
            "0  23년도 데사_고려대.xlsx  (일반)연구시설•장비비  498236727.0\n",
            "1  23년도 데사_고려대.xlsx     (특례)학생인건비  208400000.0\n",
            "2  23년도 데사_고려대.xlsx           간접비  390501000.0\n",
            "3  23년도 데사_고려대.xlsx          연구수당   57600000.0\n",
            "4  23년도 데사_고려대.xlsx         연구재료비    2145000.0\n",
            "5  23년도 데사_고려대.xlsx         연구활동비  267017653.0\n",
            "6  23년도 데사_고려대.xlsx           인건비  185087925.0\n",
            "파일명: 23년도 데사_부경대.xlsx\n",
            "                파일명            항목         공급가액\n",
            "0  23년도 데사_부경대.xlsx  (일반)연구시설•장비비  158649060.0\n",
            "1  23년도 데사_부경대.xlsx     (특례)학생인건비   20000000.0\n",
            "2  23년도 데사_부경대.xlsx           간접비   51136000.0\n",
            "3  23년도 데사_부경대.xlsx         연구재료비    7406100.0\n",
            "4  23년도 데사_부경대.xlsx         연구활동비  117400919.0\n",
            "5  23년도 데사_부경대.xlsx           인건비   28836650.0\n"
          ]
        },
        {
          "output_type": "stream",
          "name": "stderr",
          "text": [
            "<ipython-input-14-8ad0d7f27e0c>:21: FutureWarning: Series.fillna with 'method' is deprecated and will raise in a future version. Use obj.ffill() or obj.bfill() instead.\n",
            "  df_selected['항목'] = df_selected['항목'].fillna(method='ffill')\n",
            "<ipython-input-14-8ad0d7f27e0c>:21: FutureWarning: Series.fillna with 'method' is deprecated and will raise in a future version. Use obj.ffill() or obj.bfill() instead.\n",
            "  df_selected['항목'] = df_selected['항목'].fillna(method='ffill')\n"
          ]
        },
        {
          "output_type": "stream",
          "name": "stdout",
          "text": [
            "파일명: 23년도 데사_호서대.xlsx\n",
            "                파일명            항목         공급가액\n",
            "0  23년도 데사_호서대.xlsx  (일반)연구시설•장비비   79439140.0\n",
            "1  23년도 데사_호서대.xlsx     (일반)학생인건비  240500000.0\n",
            "2  23년도 데사_호서대.xlsx           간접비  198516000.0\n",
            "3  23년도 데사_호서대.xlsx          연구수당   86856000.0\n",
            "4  23년도 데사_호서대.xlsx         연구재료비   43550000.0\n",
            "5  23년도 데사_호서대.xlsx         연구활동비  192296540.0\n",
            "6  23년도 데사_호서대.xlsx           인건비   40330400.0\n",
            "파일명: 23년도 데사_서울시립.xlsx\n",
            "                 파일명            항목         공급가액\n",
            "0  23년도 데사_서울시립.xlsx  (일반)연구시설•장비비   92322630.0\n",
            "1  23년도 데사_서울시립.xlsx     (특례)학생인건비  339000000.0\n",
            "2  23년도 데사_서울시립.xlsx           간접비  196880000.0\n",
            "3  23년도 데사_서울시립.xlsx          연구수당   66809000.0\n",
            "4  23년도 데사_서울시립.xlsx         연구활동비  186662411.0\n",
            "5  23년도 데사_서울시립.xlsx           인건비   11933300.0\n",
            "파일명: 23년도 데사_전남대.xlsx\n",
            "                파일명            항목         공급가액\n",
            "0  23년도 데사_전남대.xlsx  (일반)연구시설•장비비   40952230.0\n",
            "1  23년도 데사_전남대.xlsx     (특례)학생인건비  180000000.0\n",
            "2  23년도 데사_전남대.xlsx           간접비   61364000.0\n",
            "3  23년도 데사_전남대.xlsx          연구수당   50000000.0\n",
            "4  23년도 데사_전남대.xlsx         연구활동비  170694241.0\n",
            "5  23년도 데사_전남대.xlsx           인건비   49836480.0\n"
          ]
        },
        {
          "output_type": "stream",
          "name": "stderr",
          "text": [
            "<ipython-input-14-8ad0d7f27e0c>:21: FutureWarning: Series.fillna with 'method' is deprecated and will raise in a future version. Use obj.ffill() or obj.bfill() instead.\n",
            "  df_selected['항목'] = df_selected['항목'].fillna(method='ffill')\n"
          ]
        }
      ]
    },
    {
      "cell_type": "markdown",
      "source": [
        "# [결과3] 24년도 데이터 사이언스 집행 (10건)"
      ],
      "metadata": {
        "id": "Sa1spD1bIywT"
      }
    },
    {
      "cell_type": "code",
      "source": [
        "import pandas as pd\n",
        "import glob\n",
        "import os\n",
        "\n",
        "# 폴더 경로 및 파일 검색 (\"집행\" 폴더 내 \"22년도\" 포함된 파일 찾기)\n",
        "folder_path = \"master/집행/\"\n",
        "file_pattern = os.path.join(folder_path, \"*24년도*.xlsx\")\n",
        "file_list = glob.glob(file_pattern)\n",
        "\n",
        "# 여러 파일에 대한 결과 저장\n",
        "def process_file(file_path):\n",
        "    # 엑셀 파일 읽기\n",
        "    xls = pd.ExcelFile(file_path)\n",
        "    df = xls.parse(xls.sheet_names[0])  # 첫 번째 시트 사용\n",
        "\n",
        "    # '항목'과 '공급가액' 열 선택\n",
        "    df_selected = df.iloc[:, [4, 7]].copy()\n",
        "    df_selected.columns = ['항목', '공급가액']\n",
        "\n",
        "    # 병합된 셀 문제 해결: NaN을 앞의 값으로 채움\n",
        "    df_selected['항목'] = df_selected['항목'].fillna(method='ffill')\n",
        "\n",
        "    # '공급가액'을 숫자로 변환\n",
        "    df_selected['공급가액'] = pd.to_numeric(df_selected['공급가액'], errors='coerce')\n",
        "\n",
        "    # NaN 값 제거 ('공급가액'이 없는 행만 삭제)\n",
        "    df_selected = df_selected.dropna(subset=['공급가액'])\n",
        "\n",
        "    # '항목'별 '공급가액' 합산\n",
        "    result = df_selected.groupby('항목', as_index=False)['공급가액'].sum()\n",
        "\n",
        "    # 파일명 추가\n",
        "    result.insert(0, '파일명', os.path.basename(file_path))\n",
        "\n",
        "    return result\n",
        "\n",
        "# 모든 파일에 대해 처리 및 출력\n",
        "for file in file_list:\n",
        "    result_df = process_file(file)\n",
        "    print(f\"파일명: {os.path.basename(file)}\")\n",
        "    print(result_df)"
      ],
      "metadata": {
        "colab": {
          "base_uri": "https://localhost:8080/"
        },
        "id": "_oYiD6o8I59q",
        "outputId": "57a32292-2611-45ce-d03e-e39c31336940"
      },
      "execution_count": 15,
      "outputs": [
        {
          "output_type": "stream",
          "name": "stderr",
          "text": [
            "<ipython-input-15-ee431333bfc2>:21: FutureWarning: Series.fillna with 'method' is deprecated and will raise in a future version. Use obj.ffill() or obj.bfill() instead.\n",
            "  df_selected['항목'] = df_selected['항목'].fillna(method='ffill')\n"
          ]
        },
        {
          "output_type": "stream",
          "name": "stdout",
          "text": [
            "파일명: 24년도 데사_충남대.xlsx\n",
            "                파일명            항목         공급가액\n",
            "0  24년도 데사_충남대.xlsx  (일반)연구시설•장비비   47666010.0\n",
            "1  24년도 데사_충남대.xlsx     (특례)학생인건비  409000000.0\n",
            "2  24년도 데사_충남대.xlsx           간접비  157622000.0\n",
            "3  24년도 데사_충남대.xlsx          연구수당   73220000.0\n",
            "4  24년도 데사_충남대.xlsx         연구활동비  242782433.0\n",
            "5  24년도 데사_충남대.xlsx           인건비   61225890.0\n"
          ]
        },
        {
          "output_type": "stream",
          "name": "stderr",
          "text": [
            "<ipython-input-15-ee431333bfc2>:21: FutureWarning: Series.fillna with 'method' is deprecated and will raise in a future version. Use obj.ffill() or obj.bfill() instead.\n",
            "  df_selected['항목'] = df_selected['항목'].fillna(method='ffill')\n"
          ]
        },
        {
          "output_type": "stream",
          "name": "stdout",
          "text": [
            "파일명: 24년도 데사_고려대.xlsx\n",
            "                파일명            항목         공급가액\n",
            "0  24년도 데사_고려대.xlsx  (일반)연구시설•장비비   14245000.0\n",
            "1  24년도 데사_고려대.xlsx     (특례)학생인건비  798300000.0\n",
            "2  24년도 데사_고려대.xlsx           간접비  375154000.0\n",
            "3  24년도 데사_고려대.xlsx          연구수당   27300000.0\n",
            "4  24년도 데사_고려대.xlsx         연구재료비    2082300.0\n",
            "5  24년도 데사_고려대.xlsx         연구활동비  263520163.0\n",
            "6  24년도 데사_고려대.xlsx           인건비  190595172.0\n"
          ]
        },
        {
          "output_type": "stream",
          "name": "stderr",
          "text": [
            "<ipython-input-15-ee431333bfc2>:21: FutureWarning: Series.fillna with 'method' is deprecated and will raise in a future version. Use obj.ffill() or obj.bfill() instead.\n",
            "  df_selected['항목'] = df_selected['항목'].fillna(method='ffill')\n",
            "<ipython-input-15-ee431333bfc2>:21: FutureWarning: Series.fillna with 'method' is deprecated and will raise in a future version. Use obj.ffill() or obj.bfill() instead.\n",
            "  df_selected['항목'] = df_selected['항목'].fillna(method='ffill')\n"
          ]
        },
        {
          "output_type": "stream",
          "name": "stdout",
          "text": [
            "파일명: 24년도 데사_호서대.xlsx\n",
            "                파일명         항목         공급가액\n",
            "0  24년도 데사_호서대.xlsx  (일반)학생인건비  373371370.0\n",
            "1  24년도 데사_호서대.xlsx        간접비  190506000.0\n",
            "2  24년도 데사_호서대.xlsx       연구수당  111600000.0\n",
            "3  24년도 데사_호서대.xlsx      연구활동비  179749203.0\n",
            "4  24년도 데사_호서대.xlsx        인건비   52799152.0\n",
            "파일명: 24년도 데사_전남대.xlsx\n",
            "                파일명            항목         공급가액\n",
            "0  24년도 데사_전남대.xlsx  (일반)연구시설•장비비   36966190.0\n",
            "1  24년도 데사_전남대.xlsx     (특례)학생인건비  390000000.0\n",
            "2  24년도 데사_전남대.xlsx           간접비   72000000.0\n",
            "3  24년도 데사_전남대.xlsx          연구수당   50000000.0\n",
            "4  24년도 데사_전남대.xlsx         연구활동비  132645273.0\n",
            "5  24년도 데사_전남대.xlsx           인건비   88482400.0\n"
          ]
        },
        {
          "output_type": "stream",
          "name": "stderr",
          "text": [
            "<ipython-input-15-ee431333bfc2>:21: FutureWarning: Series.fillna with 'method' is deprecated and will raise in a future version. Use obj.ffill() or obj.bfill() instead.\n",
            "  df_selected['항목'] = df_selected['항목'].fillna(method='ffill')\n",
            "<ipython-input-15-ee431333bfc2>:21: FutureWarning: Series.fillna with 'method' is deprecated and will raise in a future version. Use obj.ffill() or obj.bfill() instead.\n",
            "  df_selected['항목'] = df_selected['항목'].fillna(method='ffill')\n"
          ]
        },
        {
          "output_type": "stream",
          "name": "stdout",
          "text": [
            "파일명: 24년도 데사_부산대.xlsx\n",
            "                파일명         항목         공급가액\n",
            "0  24년도 데사_부산대.xlsx  (특례)학생인건비  300000000.0\n",
            "1  24년도 데사_부산대.xlsx        간접비   60000000.0\n",
            "2  24년도 데사_부산대.xlsx      연구활동비  111011867.0\n",
            "3  24년도 데사_부산대.xlsx        인건비   39681420.0\n",
            "파일명: 24년도 데사_부경대.xlsx\n",
            "                파일명            항목         공급가액\n",
            "0  24년도 데사_부경대.xlsx  (일반)연구시설•장비비   46875000.0\n",
            "1  24년도 데사_부경대.xlsx     (특례)학생인건비  350000000.0\n",
            "2  24년도 데사_부경대.xlsx           간접비   60000000.0\n",
            "3  24년도 데사_부경대.xlsx          연구수당   45460000.0\n",
            "4  24년도 데사_부경대.xlsx         연구활동비  111085370.0\n",
            "5  24년도 데사_부경대.xlsx           인건비   77863930.0\n"
          ]
        },
        {
          "output_type": "stream",
          "name": "stderr",
          "text": [
            "<ipython-input-15-ee431333bfc2>:21: FutureWarning: Series.fillna with 'method' is deprecated and will raise in a future version. Use obj.ffill() or obj.bfill() instead.\n",
            "  df_selected['항목'] = df_selected['항목'].fillna(method='ffill')\n",
            "<ipython-input-15-ee431333bfc2>:21: FutureWarning: Series.fillna with 'method' is deprecated and will raise in a future version. Use obj.ffill() or obj.bfill() instead.\n",
            "  df_selected['항목'] = df_selected['항목'].fillna(method='ffill')\n"
          ]
        },
        {
          "output_type": "stream",
          "name": "stdout",
          "text": [
            "파일명: 24년도 데사_카이스트.xlsx\n",
            "                 파일명         항목          공급가액\n",
            "0  24년도 데사_카이스트.xlsx  (특례)학생인건비  1.553116e+09\n",
            "1  24년도 데사_카이스트.xlsx        간접비  2.700000e+08\n",
            "2  24년도 데사_카이스트.xlsx       연구수당  1.501576e+08\n",
            "3  24년도 데사_카이스트.xlsx      연구재료비  2.824446e+07\n",
            "4  24년도 데사_카이스트.xlsx      연구활동비  1.777574e+08\n",
            "5  24년도 데사_카이스트.xlsx        인건비  1.018527e+08\n",
            "파일명: 24년도 데사_강원대.xlsx\n",
            "                파일명            항목         공급가액\n",
            "0  24년도 데사_강원대.xlsx  (일반)연구시설•장비비   51260000.0\n",
            "1  24년도 데사_강원대.xlsx     (특례)학생인건비  396000000.0\n",
            "2  24년도 데사_강원대.xlsx           간접비   78946000.0\n",
            "3  24년도 데사_강원대.xlsx          연구수당   60000000.0\n",
            "4  24년도 데사_강원대.xlsx         연구활동비  113533536.0\n",
            "5  24년도 데사_강원대.xlsx           인건비   81227068.0\n"
          ]
        },
        {
          "output_type": "stream",
          "name": "stderr",
          "text": [
            "<ipython-input-15-ee431333bfc2>:21: FutureWarning: Series.fillna with 'method' is deprecated and will raise in a future version. Use obj.ffill() or obj.bfill() instead.\n",
            "  df_selected['항목'] = df_selected['항목'].fillna(method='ffill')\n"
          ]
        },
        {
          "output_type": "stream",
          "name": "stdout",
          "text": [
            "파일명: 24년도 데사_서울시립.xlsx\n",
            "                 파일명         항목         공급가액\n",
            "0  24년도 데사_서울시립.xlsx  (특례)학생인건비  378000000.0\n",
            "1  24년도 데사_서울시립.xlsx        간접비  188936000.0\n",
            "2  24년도 데사_서울시립.xlsx       연구수당   72882000.0\n",
            "3  24년도 데사_서울시립.xlsx      연구활동비  262351903.0\n",
            "4  24년도 데사_서울시립.xlsx        인건비    8353310.0\n",
            "파일명: 24년도 데사_경북대.xlsx\n",
            "                파일명            항목         공급가액\n",
            "0  24년도 데사_경북대.xlsx  (일반)연구시설•장비비  354143905.0\n",
            "1  24년도 데사_경북대.xlsx     (특례)학생인건비  379200000.0\n",
            "2  24년도 데사_경북대.xlsx           간접비  136136000.0\n",
            "3  24년도 데사_경북대.xlsx          연구수당  108000000.0\n",
            "4  24년도 데사_경북대.xlsx         연구활동비  359514889.0\n",
            "5  24년도 데사_경북대.xlsx           인건비  216540360.0\n"
          ]
        },
        {
          "output_type": "stream",
          "name": "stderr",
          "text": [
            "<ipython-input-15-ee431333bfc2>:21: FutureWarning: Series.fillna with 'method' is deprecated and will raise in a future version. Use obj.ffill() or obj.bfill() instead.\n",
            "  df_selected['항목'] = df_selected['항목'].fillna(method='ffill')\n"
          ]
        }
      ]
    }
  ]
}